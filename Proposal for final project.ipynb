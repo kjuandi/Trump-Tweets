{
 "cells": [
  {
   "cell_type": "markdown",
   "id": "45885e73",
   "metadata": {},
   "source": [
    "Project Idea:\n",
    "Analysis of Trump twitter data\n",
    "\n",
    "Areas to analyse:\n",
    "- Sentiment Analysis with TextBlob (Don't understand how it works, it just works. Probably should read the documentation)\n",
    "- Choice of Words vs number of engagement (RT, replies, like)\n",
    "- Trend over time, such as tweet frequency (possible deeper analysis on how it is affected by election and other events)\n",
    "\n",
    "I couldn't think of anything else to analyse at the moment."
   ]
  },
  {
   "cell_type": "markdown",
   "id": "9b987bd1",
   "metadata": {},
   "source": [
    "bonus idea:\n",
    "- Chatbot mimicking Trump trained with Microsoft DialoGPT.\n",
    "\n",
    "https://towardsdatascience.com/make-your-own-rick-sanchez-bot-with-transformers-and-dialogpt-fine-tuning-f85e6d1f4e30\n",
    "\n",
    "https://www.freecodecamp.org/news/discord-ai-chatbot/"
   ]
  },
  {
   "cell_type": "code",
   "execution_count": null,
   "id": "cb4188a2",
   "metadata": {},
   "outputs": [],
   "source": []
  }
 ],
 "metadata": {
  "kernelspec": {
   "display_name": "Python 3 (ipykernel)",
   "language": "python",
   "name": "python3"
  },
  "language_info": {
   "codemirror_mode": {
    "name": "ipython",
    "version": 3
   },
   "file_extension": ".py",
   "mimetype": "text/x-python",
   "name": "python",
   "nbconvert_exporter": "python",
   "pygments_lexer": "ipython3",
   "version": "3.9.7"
  }
 },
 "nbformat": 4,
 "nbformat_minor": 5
}
